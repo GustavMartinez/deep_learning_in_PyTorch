{
 "cells": [
  {
   "cell_type": "markdown",
   "id": "4e04e046",
   "metadata": {},
   "source": [
    "# Tensor datatypes"
   ]
  },
  {
   "cell_type": "code",
   "execution_count": 1,
   "id": "b1b9cf27",
   "metadata": {},
   "outputs": [],
   "source": [
    "import torch\n",
    "import pandas as pd\n",
    "import numpy as np\n",
    "import matplotlib.pyplot as plt"
   ]
  },
  {
   "cell_type": "code",
   "execution_count": 6,
   "id": "1743acd1",
   "metadata": {},
   "outputs": [
    {
     "data": {
      "text/plain": [
       "tensor([3., 6., 9.], dtype=torch.float16)"
      ]
     },
     "execution_count": 6,
     "metadata": {},
     "output_type": "execute_result"
    }
   ],
   "source": [
    "# Float 32 tensor\n",
    "f_32_tensor = torch.tensor([3.0,6.0,9.0], \n",
    "                           dtype=torch.float16, # What datatype is the tensor\n",
    "                           device=None, # cpu / cuda\n",
    "                           requires_grad=False) # track or not gradients with this tensor\n",
    "f_32_tensor"
   ]
  },
  {
   "cell_type": "code",
   "execution_count": 7,
   "id": "cc647628",
   "metadata": {},
   "outputs": [
    {
     "data": {
      "text/plain": [
       "torch.float16"
      ]
     },
     "execution_count": 7,
     "metadata": {},
     "output_type": "execute_result"
    }
   ],
   "source": [
    "f_32_tensor.dtype"
   ]
  },
  {
   "cell_type": "code",
   "execution_count": null,
   "id": "7b42db63",
   "metadata": {},
   "outputs": [],
   "source": []
  }
 ],
 "metadata": {
  "kernelspec": {
   "display_name": "env",
   "language": "python",
   "name": "python3"
  },
  "language_info": {
   "codemirror_mode": {
    "name": "ipython",
    "version": 3
   },
   "file_extension": ".py",
   "mimetype": "text/x-python",
   "name": "python",
   "nbconvert_exporter": "python",
   "pygments_lexer": "ipython3",
   "version": "3.11.2"
  }
 },
 "nbformat": 4,
 "nbformat_minor": 5
}
